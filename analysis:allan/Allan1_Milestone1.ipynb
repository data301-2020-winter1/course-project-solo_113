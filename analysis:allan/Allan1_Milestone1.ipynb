{
 "cells": [
  {
   "cell_type": "code",
   "execution_count": 10,
   "metadata": {},
   "outputs": [
    {
     "name": "stdout",
     "output_type": "stream",
     "text": [
      "   id                name        date   manner_of_death       armed   age  \\\n",
      "0   3          Tim Elliot  2015-01-02              shot         gun  53.0   \n",
      "1   4    Lewis Lee Lembke  2015-01-02              shot         gun  47.0   \n",
      "2   5  John Paul Quintero  2015-01-03  shot and Tasered     unarmed  23.0   \n",
      "3   8     Matthew Hoffman  2015-01-04              shot  toy weapon  32.0   \n",
      "4   9   Michael Rodriguez  2015-01-04              shot    nail gun  39.0   \n",
      "\n",
      "  gender race           city state  signs_of_mental_illness threat_level  \\\n",
      "0      M    A        Shelton    WA                     True       attack   \n",
      "1      M    W          Aloha    OR                    False       attack   \n",
      "2      M    H        Wichita    KS                    False        other   \n",
      "3      M    W  San Francisco    CA                     True       attack   \n",
      "4      M    H          Evans    CO                    False       attack   \n",
      "\n",
      "          flee  body_camera  longitude  latitude  is_geocoding_exact  \n",
      "0  Not fleeing        False   -123.122    47.247                True  \n",
      "1  Not fleeing        False   -122.892    45.487                True  \n",
      "2  Not fleeing        False    -97.281    37.695                True  \n",
      "3  Not fleeing        False   -122.422    37.763                True  \n",
      "4  Not fleeing        False   -104.692    40.384                True  \n"
     ]
    }
   ],
   "source": [
    "import pandas as pd\n",
    "df = pd.read_csv('/Users/allannganga/Desktop/School/course-project-solo_113/Data/Data:Raw/fatal-police-shootings-data.csv')\n",
    "print (df.head())"
   ]
  },
  {
   "cell_type": "code",
   "execution_count": null,
   "metadata": {},
   "outputs": [],
   "source": []
  },
  {
   "cell_type": "code",
   "execution_count": null,
   "metadata": {},
   "outputs": [],
   "source": []
  }
 ],
 "metadata": {
  "kernelspec": {
   "display_name": "Python 3",
   "language": "python",
   "name": "python3"
  },
  "language_info": {
   "codemirror_mode": {
    "name": "ipython",
    "version": 3
   },
   "file_extension": ".py",
   "mimetype": "text/x-python",
   "name": "python",
   "nbconvert_exporter": "python",
   "pygments_lexer": "ipython3",
   "version": "3.8.3"
  }
 },
 "nbformat": 4,
 "nbformat_minor": 4
}
