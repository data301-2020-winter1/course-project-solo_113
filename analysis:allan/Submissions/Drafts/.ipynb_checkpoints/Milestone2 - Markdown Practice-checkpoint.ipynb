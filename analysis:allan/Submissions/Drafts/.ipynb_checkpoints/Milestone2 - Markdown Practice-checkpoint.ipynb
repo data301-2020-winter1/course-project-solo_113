{
 "cells": [
  {
   "cell_type": "markdown",
   "metadata": {},
   "source": [
    "**Analysis of Processed Data.**\n",
    "\n",
    "**Research Discussion:**\n",
    "\n",
    "*Question 1: How much more(or less) likely is it for an ethnic minority to have a fatal encounter with law enforcement?*\n",
    "- text\n",
    "\n",
    "\n",
    "*Question 2: How often do fatal police shootings involve those with mental illness? Is mental illness likely to be classified as aggression or non-compliance?*\n",
    "- text\n"
   ]
  },
  {
   "cell_type": "markdown",
   "metadata": {},
   "source": [
    "---"
   ]
  },
  {
   "cell_type": "markdown",
   "metadata": {},
   "source": [
    "**Notable Findings**\n",
    "\n",
    "*How often are police body cameras used in cases of fatal shootings?*\n",
    "\n",
    "\n",
    "*Which cities and states have the most occurences of fatal Police shootings?*"
   ]
  },
  {
   "cell_type": "code",
   "execution_count": null,
   "metadata": {},
   "outputs": [],
   "source": []
  }
 ],
 "metadata": {
  "kernelspec": {
   "display_name": "Python 3",
   "language": "python",
   "name": "python3"
  },
  "language_info": {
   "codemirror_mode": {
    "name": "ipython",
    "version": 3
   },
   "file_extension": ".py",
   "mimetype": "text/x-python",
   "name": "python",
   "nbconvert_exporter": "python",
   "pygments_lexer": "ipython3",
   "version": "3.8.3"
  }
 },
 "nbformat": 4,
 "nbformat_minor": 4
}
